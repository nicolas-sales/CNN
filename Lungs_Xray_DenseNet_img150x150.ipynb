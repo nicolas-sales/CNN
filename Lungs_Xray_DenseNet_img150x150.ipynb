{
 "cells": [
  {
   "cell_type": "code",
   "execution_count": 2,
   "id": "8027bd86",
   "metadata": {},
   "outputs": [],
   "source": [
    "import numpy as np\n",
    "import pandas as pd\n",
    "import seaborn as sns\n",
    "import matplotlib.pyplot as plt\n",
    "\n",
    "from keras.preprocessing.image import ImageDataGenerator\n",
    "from keras.applications.densenet import DenseNet121\n",
    "from keras.layers import Dense, GlobalAveragePooling2D\n",
    "from keras.models import Model\n",
    "from keras import backend as K\n",
    "from sklearn.model_selection import train_test_split\n",
    "\n",
    "from keras.models import load_model\n",
    "\n",
    "#import util\n",
    "#from public_tests import *\n",
    "#from test_utils import *\n",
    "\n",
    "import tensorflow as tf\n",
    "tf.compat.v1.logging.set_verbosity(tf.compat.v1.logging.ERROR)\n",
    "\n",
    "from PIL import Image\n",
    "import os"
   ]
  },
  {
   "cell_type": "code",
   "execution_count": 3,
   "id": "ce848309",
   "metadata": {},
   "outputs": [],
   "source": [
    "data = pd.read_csv(r\"C:\\Users\\nico_\\Desktop\\thorax_xray\\Data_Entry_2017_v2020.csv\")"
   ]
  },
  {
   "cell_type": "code",
   "execution_count": 4,
   "id": "f82ceb29",
   "metadata": {},
   "outputs": [],
   "source": [
    "df = pd.read_csv(r\"C:\\Users\\nico_\\Desktop\\thorax_xray\\miccai2023_nih-cxr-lt_labels_train.csv\")"
   ]
  },
  {
   "cell_type": "code",
   "execution_count": 5,
   "id": "c44759a1",
   "metadata": {},
   "outputs": [
    {
     "data": {
      "text/html": [
       "<div>\n",
       "<style scoped>\n",
       "    .dataframe tbody tr th:only-of-type {\n",
       "        vertical-align: middle;\n",
       "    }\n",
       "\n",
       "    .dataframe tbody tr th {\n",
       "        vertical-align: top;\n",
       "    }\n",
       "\n",
       "    .dataframe thead th {\n",
       "        text-align: right;\n",
       "    }\n",
       "</style>\n",
       "<table border=\"1\" class=\"dataframe\">\n",
       "  <thead>\n",
       "    <tr style=\"text-align: right;\">\n",
       "      <th></th>\n",
       "      <th>Image Index</th>\n",
       "      <th>Finding Labels</th>\n",
       "      <th>Follow-up #</th>\n",
       "      <th>Patient ID</th>\n",
       "      <th>Patient Age</th>\n",
       "      <th>Patient Gender</th>\n",
       "      <th>View Position</th>\n",
       "      <th>OriginalImage[Width</th>\n",
       "      <th>Height]</th>\n",
       "      <th>OriginalImagePixelSpacing[x</th>\n",
       "      <th>y]</th>\n",
       "    </tr>\n",
       "  </thead>\n",
       "  <tbody>\n",
       "    <tr>\n",
       "      <th>0</th>\n",
       "      <td>00000001_000.png</td>\n",
       "      <td>Cardiomegaly</td>\n",
       "      <td>0</td>\n",
       "      <td>1</td>\n",
       "      <td>57</td>\n",
       "      <td>M</td>\n",
       "      <td>PA</td>\n",
       "      <td>2682</td>\n",
       "      <td>2749</td>\n",
       "      <td>0.143</td>\n",
       "      <td>0.143</td>\n",
       "    </tr>\n",
       "    <tr>\n",
       "      <th>1</th>\n",
       "      <td>00000001_001.png</td>\n",
       "      <td>Cardiomegaly|Emphysema</td>\n",
       "      <td>1</td>\n",
       "      <td>1</td>\n",
       "      <td>58</td>\n",
       "      <td>M</td>\n",
       "      <td>PA</td>\n",
       "      <td>2894</td>\n",
       "      <td>2729</td>\n",
       "      <td>0.143</td>\n",
       "      <td>0.143</td>\n",
       "    </tr>\n",
       "    <tr>\n",
       "      <th>2</th>\n",
       "      <td>00000001_002.png</td>\n",
       "      <td>Cardiomegaly|Effusion</td>\n",
       "      <td>2</td>\n",
       "      <td>1</td>\n",
       "      <td>58</td>\n",
       "      <td>M</td>\n",
       "      <td>PA</td>\n",
       "      <td>2500</td>\n",
       "      <td>2048</td>\n",
       "      <td>0.168</td>\n",
       "      <td>0.168</td>\n",
       "    </tr>\n",
       "    <tr>\n",
       "      <th>3</th>\n",
       "      <td>00000002_000.png</td>\n",
       "      <td>No Finding</td>\n",
       "      <td>0</td>\n",
       "      <td>2</td>\n",
       "      <td>80</td>\n",
       "      <td>M</td>\n",
       "      <td>PA</td>\n",
       "      <td>2500</td>\n",
       "      <td>2048</td>\n",
       "      <td>0.171</td>\n",
       "      <td>0.171</td>\n",
       "    </tr>\n",
       "    <tr>\n",
       "      <th>4</th>\n",
       "      <td>00000003_001.png</td>\n",
       "      <td>Hernia</td>\n",
       "      <td>0</td>\n",
       "      <td>3</td>\n",
       "      <td>74</td>\n",
       "      <td>F</td>\n",
       "      <td>PA</td>\n",
       "      <td>2500</td>\n",
       "      <td>2048</td>\n",
       "      <td>0.168</td>\n",
       "      <td>0.168</td>\n",
       "    </tr>\n",
       "  </tbody>\n",
       "</table>\n",
       "</div>"
      ],
      "text/plain": [
       "        Image Index          Finding Labels  Follow-up #  Patient ID  \\\n",
       "0  00000001_000.png            Cardiomegaly            0           1   \n",
       "1  00000001_001.png  Cardiomegaly|Emphysema            1           1   \n",
       "2  00000001_002.png   Cardiomegaly|Effusion            2           1   \n",
       "3  00000002_000.png              No Finding            0           2   \n",
       "4  00000003_001.png                  Hernia            0           3   \n",
       "\n",
       "   Patient Age Patient Gender View Position  OriginalImage[Width  Height]  \\\n",
       "0           57              M            PA                 2682     2749   \n",
       "1           58              M            PA                 2894     2729   \n",
       "2           58              M            PA                 2500     2048   \n",
       "3           80              M            PA                 2500     2048   \n",
       "4           74              F            PA                 2500     2048   \n",
       "\n",
       "   OriginalImagePixelSpacing[x     y]  \n",
       "0                        0.143  0.143  \n",
       "1                        0.143  0.143  \n",
       "2                        0.168  0.168  \n",
       "3                        0.171  0.171  \n",
       "4                        0.168  0.168  "
      ]
     },
     "execution_count": 5,
     "metadata": {},
     "output_type": "execute_result"
    }
   ],
   "source": [
    "data.head()"
   ]
  },
  {
   "cell_type": "code",
   "execution_count": 6,
   "id": "59a239ab",
   "metadata": {},
   "outputs": [
    {
     "data": {
      "text/html": [
       "<div>\n",
       "<style scoped>\n",
       "    .dataframe tbody tr th:only-of-type {\n",
       "        vertical-align: middle;\n",
       "    }\n",
       "\n",
       "    .dataframe tbody tr th {\n",
       "        vertical-align: top;\n",
       "    }\n",
       "\n",
       "    .dataframe thead th {\n",
       "        text-align: right;\n",
       "    }\n",
       "</style>\n",
       "<table border=\"1\" class=\"dataframe\">\n",
       "  <thead>\n",
       "    <tr style=\"text-align: right;\">\n",
       "      <th></th>\n",
       "      <th>id</th>\n",
       "      <th>Atelectasis</th>\n",
       "      <th>Cardiomegaly</th>\n",
       "      <th>Consolidation</th>\n",
       "      <th>Edema</th>\n",
       "      <th>Effusion</th>\n",
       "      <th>Emphysema</th>\n",
       "      <th>Fibrosis</th>\n",
       "      <th>Hernia</th>\n",
       "      <th>Infiltration</th>\n",
       "      <th>...</th>\n",
       "      <th>Pleural Thickening</th>\n",
       "      <th>Pneumonia</th>\n",
       "      <th>Pneumothorax</th>\n",
       "      <th>Pneumoperitoneum</th>\n",
       "      <th>Pneumomediastinum</th>\n",
       "      <th>Subcutaneous Emphysema</th>\n",
       "      <th>Tortuous Aorta</th>\n",
       "      <th>Calcification of the Aorta</th>\n",
       "      <th>No Finding</th>\n",
       "      <th>subj_id</th>\n",
       "    </tr>\n",
       "  </thead>\n",
       "  <tbody>\n",
       "    <tr>\n",
       "      <th>0</th>\n",
       "      <td>00000001_000.png</td>\n",
       "      <td>0</td>\n",
       "      <td>1</td>\n",
       "      <td>0</td>\n",
       "      <td>0</td>\n",
       "      <td>0</td>\n",
       "      <td>0</td>\n",
       "      <td>0</td>\n",
       "      <td>0</td>\n",
       "      <td>0</td>\n",
       "      <td>...</td>\n",
       "      <td>0</td>\n",
       "      <td>0</td>\n",
       "      <td>0</td>\n",
       "      <td>0</td>\n",
       "      <td>0</td>\n",
       "      <td>0</td>\n",
       "      <td>0</td>\n",
       "      <td>0</td>\n",
       "      <td>0</td>\n",
       "      <td>1</td>\n",
       "    </tr>\n",
       "    <tr>\n",
       "      <th>1</th>\n",
       "      <td>00000001_001.png</td>\n",
       "      <td>0</td>\n",
       "      <td>1</td>\n",
       "      <td>0</td>\n",
       "      <td>0</td>\n",
       "      <td>0</td>\n",
       "      <td>1</td>\n",
       "      <td>0</td>\n",
       "      <td>0</td>\n",
       "      <td>0</td>\n",
       "      <td>...</td>\n",
       "      <td>0</td>\n",
       "      <td>0</td>\n",
       "      <td>0</td>\n",
       "      <td>0</td>\n",
       "      <td>0</td>\n",
       "      <td>0</td>\n",
       "      <td>0</td>\n",
       "      <td>0</td>\n",
       "      <td>0</td>\n",
       "      <td>1</td>\n",
       "    </tr>\n",
       "    <tr>\n",
       "      <th>2</th>\n",
       "      <td>00000001_002.png</td>\n",
       "      <td>0</td>\n",
       "      <td>1</td>\n",
       "      <td>0</td>\n",
       "      <td>0</td>\n",
       "      <td>1</td>\n",
       "      <td>0</td>\n",
       "      <td>0</td>\n",
       "      <td>0</td>\n",
       "      <td>0</td>\n",
       "      <td>...</td>\n",
       "      <td>0</td>\n",
       "      <td>0</td>\n",
       "      <td>0</td>\n",
       "      <td>0</td>\n",
       "      <td>0</td>\n",
       "      <td>0</td>\n",
       "      <td>0</td>\n",
       "      <td>0</td>\n",
       "      <td>0</td>\n",
       "      <td>1</td>\n",
       "    </tr>\n",
       "    <tr>\n",
       "      <th>3</th>\n",
       "      <td>00000002_000.png</td>\n",
       "      <td>0</td>\n",
       "      <td>0</td>\n",
       "      <td>0</td>\n",
       "      <td>0</td>\n",
       "      <td>0</td>\n",
       "      <td>0</td>\n",
       "      <td>0</td>\n",
       "      <td>0</td>\n",
       "      <td>0</td>\n",
       "      <td>...</td>\n",
       "      <td>0</td>\n",
       "      <td>0</td>\n",
       "      <td>0</td>\n",
       "      <td>0</td>\n",
       "      <td>0</td>\n",
       "      <td>0</td>\n",
       "      <td>0</td>\n",
       "      <td>0</td>\n",
       "      <td>1</td>\n",
       "      <td>2</td>\n",
       "    </tr>\n",
       "    <tr>\n",
       "      <th>4</th>\n",
       "      <td>00000004_000.png</td>\n",
       "      <td>0</td>\n",
       "      <td>0</td>\n",
       "      <td>0</td>\n",
       "      <td>0</td>\n",
       "      <td>0</td>\n",
       "      <td>0</td>\n",
       "      <td>0</td>\n",
       "      <td>0</td>\n",
       "      <td>0</td>\n",
       "      <td>...</td>\n",
       "      <td>0</td>\n",
       "      <td>0</td>\n",
       "      <td>0</td>\n",
       "      <td>0</td>\n",
       "      <td>0</td>\n",
       "      <td>0</td>\n",
       "      <td>0</td>\n",
       "      <td>0</td>\n",
       "      <td>0</td>\n",
       "      <td>4</td>\n",
       "    </tr>\n",
       "  </tbody>\n",
       "</table>\n",
       "<p>5 rows × 22 columns</p>\n",
       "</div>"
      ],
      "text/plain": [
       "                 id  Atelectasis  Cardiomegaly  Consolidation  Edema  \\\n",
       "0  00000001_000.png            0             1              0      0   \n",
       "1  00000001_001.png            0             1              0      0   \n",
       "2  00000001_002.png            0             1              0      0   \n",
       "3  00000002_000.png            0             0              0      0   \n",
       "4  00000004_000.png            0             0              0      0   \n",
       "\n",
       "   Effusion  Emphysema  Fibrosis  Hernia  Infiltration  ...  \\\n",
       "0         0          0         0       0             0  ...   \n",
       "1         0          1         0       0             0  ...   \n",
       "2         1          0         0       0             0  ...   \n",
       "3         0          0         0       0             0  ...   \n",
       "4         0          0         0       0             0  ...   \n",
       "\n",
       "   Pleural Thickening  Pneumonia  Pneumothorax  Pneumoperitoneum  \\\n",
       "0                   0          0             0                 0   \n",
       "1                   0          0             0                 0   \n",
       "2                   0          0             0                 0   \n",
       "3                   0          0             0                 0   \n",
       "4                   0          0             0                 0   \n",
       "\n",
       "   Pneumomediastinum  Subcutaneous Emphysema  Tortuous Aorta  \\\n",
       "0                  0                       0               0   \n",
       "1                  0                       0               0   \n",
       "2                  0                       0               0   \n",
       "3                  0                       0               0   \n",
       "4                  0                       0               0   \n",
       "\n",
       "   Calcification of the Aorta  No Finding  subj_id  \n",
       "0                           0           0        1  \n",
       "1                           0           0        1  \n",
       "2                           0           0        1  \n",
       "3                           0           1        2  \n",
       "4                           0           0        4  \n",
       "\n",
       "[5 rows x 22 columns]"
      ]
     },
     "execution_count": 6,
     "metadata": {},
     "output_type": "execute_result"
    }
   ],
   "source": [
    "df.head()"
   ]
  },
  {
   "cell_type": "code",
   "execution_count": 7,
   "id": "6bebfc8b",
   "metadata": {},
   "outputs": [
    {
     "data": {
      "text/plain": [
       "Index(['id', 'Atelectasis', 'Cardiomegaly', 'Consolidation', 'Edema',\n",
       "       'Effusion', 'Emphysema', 'Fibrosis', 'Hernia', 'Infiltration', 'Mass',\n",
       "       'Nodule', 'Pleural Thickening', 'Pneumonia', 'Pneumothorax',\n",
       "       'Pneumoperitoneum', 'Pneumomediastinum', 'Subcutaneous Emphysema',\n",
       "       'Tortuous Aorta', 'Calcification of the Aorta', 'No Finding',\n",
       "       'subj_id'],\n",
       "      dtype='object')"
      ]
     },
     "execution_count": 7,
     "metadata": {},
     "output_type": "execute_result"
    }
   ],
   "source": [
    "df.columns"
   ]
  },
  {
   "cell_type": "code",
   "execution_count": 8,
   "id": "a4f27243",
   "metadata": {},
   "outputs": [],
   "source": [
    "df.drop(\"subj_id\", axis=1, inplace=True)"
   ]
  },
  {
   "cell_type": "code",
   "execution_count": 9,
   "id": "6fe91686",
   "metadata": {},
   "outputs": [
    {
     "data": {
      "text/plain": [
       "(78506, 21)"
      ]
     },
     "execution_count": 9,
     "metadata": {},
     "output_type": "execute_result"
    }
   ],
   "source": [
    "df.shape"
   ]
  },
  {
   "cell_type": "code",
   "execution_count": 10,
   "id": "d66e1e0a",
   "metadata": {},
   "outputs": [
    {
     "data": {
      "text/plain": [
       "id                            0\n",
       "Atelectasis                   0\n",
       "Cardiomegaly                  0\n",
       "Consolidation                 0\n",
       "Edema                         0\n",
       "Effusion                      0\n",
       "Emphysema                     0\n",
       "Fibrosis                      0\n",
       "Hernia                        0\n",
       "Infiltration                  0\n",
       "Mass                          0\n",
       "Nodule                        0\n",
       "Pleural Thickening            0\n",
       "Pneumonia                     0\n",
       "Pneumothorax                  0\n",
       "Pneumoperitoneum              0\n",
       "Pneumomediastinum             0\n",
       "Subcutaneous Emphysema        0\n",
       "Tortuous Aorta                0\n",
       "Calcification of the Aorta    0\n",
       "No Finding                    0\n",
       "dtype: int64"
      ]
     },
     "execution_count": 10,
     "metadata": {},
     "output_type": "execute_result"
    }
   ],
   "source": [
    "df.isna().sum()"
   ]
  },
  {
   "cell_type": "markdown",
   "id": "150e94c0",
   "metadata": {},
   "source": [
    "# Analyse des images avec atteintes cérébrales ou non"
   ]
  },
  {
   "cell_type": "code",
   "execution_count": 11,
   "id": "e974697a",
   "metadata": {},
   "outputs": [],
   "source": [
    "labels = ['Atelectasis', 'Cardiomegaly', 'Consolidation', 'Edema',\n",
    "       'Effusion', 'Emphysema', 'Fibrosis', 'Hernia', 'Infiltration', 'Mass',\n",
    "       'Nodule', 'Pleural Thickening', 'Pneumonia', 'Pneumothorax',\n",
    "       'Pneumoperitoneum', 'Pneumomediastinum', 'Subcutaneous Emphysema',\n",
    "       'Tortuous Aorta', 'Calcification of the Aorta', 'No Finding']"
   ]
  },
  {
   "cell_type": "code",
   "execution_count": 12,
   "id": "57778bb3",
   "metadata": {},
   "outputs": [],
   "source": [
    "y = df[['Atelectasis', 'Cardiomegaly', 'Consolidation', 'Edema',\n",
    "       'Effusion', 'Emphysema', 'Fibrosis', 'Hernia', 'Infiltration', 'Mass',\n",
    "       'Nodule', 'Pleural Thickening', 'Pneumonia', 'Pneumothorax',\n",
    "       'Pneumoperitoneum', 'Pneumomediastinum', 'Subcutaneous Emphysema',\n",
    "       'Tortuous Aorta', 'Calcification of the Aorta', 'No Finding']]"
   ]
  },
  {
   "cell_type": "code",
   "execution_count": 13,
   "id": "9602de2b",
   "metadata": {},
   "outputs": [
    {
     "data": {
      "text/plain": [
       "Atelectasis                   70919\n",
       "Cardiomegaly                  76916\n",
       "Consolidation                 75880\n",
       "Edema                         77223\n",
       "Effusion                      70587\n",
       "Emphysema                     77179\n",
       "Fibrosis                      77368\n",
       "Hernia                        78376\n",
       "Infiltration                  65767\n",
       "Mass                          74817\n",
       "Nodule                        74147\n",
       "Pleural Thickening            76508\n",
       "Pneumonia                     77700\n",
       "Pneumothorax                  76074\n",
       "Pneumoperitoneum              78292\n",
       "Pneumomediastinum             78418\n",
       "Subcutaneous Emphysema        77549\n",
       "Tortuous Aorta                77908\n",
       "Calcification of the Aorta    78138\n",
       "No Finding                    33881\n",
       "dtype: int64"
      ]
     },
     "execution_count": 13,
     "metadata": {},
     "output_type": "execute_result"
    }
   ],
   "source": [
    "(y==0).sum()"
   ]
  },
  {
   "cell_type": "code",
   "execution_count": 14,
   "id": "eb18f22d",
   "metadata": {},
   "outputs": [
    {
     "data": {
      "text/plain": [
       "Atelectasis                    7587\n",
       "Cardiomegaly                   1590\n",
       "Consolidation                  2626\n",
       "Edema                          1283\n",
       "Effusion                       7919\n",
       "Emphysema                      1327\n",
       "Fibrosis                       1138\n",
       "Hernia                          130\n",
       "Infiltration                  12739\n",
       "Mass                           3689\n",
       "Nodule                         4359\n",
       "Pleural Thickening             1998\n",
       "Pneumonia                       806\n",
       "Pneumothorax                   2432\n",
       "Pneumoperitoneum                214\n",
       "Pneumomediastinum                88\n",
       "Subcutaneous Emphysema          957\n",
       "Tortuous Aorta                  598\n",
       "Calcification of the Aorta      368\n",
       "No Finding                    44625\n",
       "dtype: int64"
      ]
     },
     "execution_count": 14,
     "metadata": {},
     "output_type": "execute_result"
    }
   ],
   "source": [
    "(y==1).sum()"
   ]
  },
  {
   "cell_type": "code",
   "execution_count": 15,
   "id": "71945a5d",
   "metadata": {},
   "outputs": [
    {
     "data": {
      "image/png": "[encoded data removed]",
      "text/plain": [
       "<Figure size 2000x600 with 1 Axes>"
      ]
     },
     "metadata": {},
     "output_type": "display_data"
    }
   ],
   "source": [
    "plt.figure(figsize=(20,6))\n",
    "plt.xticks(rotation=90)\n",
    "plt.bar(x=labels, height=(y==0).sum(),color='blue')\n",
    "plt.bar(x=labels, height=(y==1).sum(),color='red')\n",
    "plt.show()"
   ]
  },
  {
   "cell_type": "code",
   "execution_count": 16,
   "id": "fd01d2fe",
   "metadata": {},
   "outputs": [
    {
     "name": "stdout",
     "output_type": "stream",
     "text": [
      "0.0966422948564441\n",
      "0.903357705143556\n"
     ]
    }
   ],
   "source": [
    "N = len(y[\"Atelectasis\"])\n",
    "    \n",
    "positive_frequencies = ((y[\"Atelectasis\"]==1).sum())/N\n",
    "negative_frequencies = 1 - positive_frequencies\n",
    "\n",
    "print(positive_frequencies)\n",
    "print(negative_frequencies)"
   ]
  },
  {
   "cell_type": "code",
   "execution_count": 17,
   "id": "ef473058",
   "metadata": {},
   "outputs": [
    {
     "name": "stdout",
     "output_type": "stream",
     "text": [
      "compte : Atelectasis\n",
      "0    70919\n",
      "1     7587\n",
      "Name: count, dtype: int64 pourcentage :  Atelectasis\n",
      "0    90.335771\n",
      "1     9.664229\n",
      "Name: count, dtype: float64\n",
      "compte : Cardiomegaly\n",
      "0    76916\n",
      "1     1590\n",
      "Name: count, dtype: int64 pourcentage :  Cardiomegaly\n",
      "0    97.974677\n",
      "1     2.025323\n",
      "Name: count, dtype: float64\n",
      "compte : Consolidation\n",
      "0    75880\n",
      "1     2626\n",
      "Name: count, dtype: int64 pourcentage :  Consolidation\n",
      "0    96.655033\n",
      "1     3.344967\n",
      "Name: count, dtype: float64\n",
      "compte : Edema\n",
      "0    77223\n",
      "1     1283\n",
      "Name: count, dtype: int64 pourcentage :  Edema\n",
      "0    98.36573\n",
      "1     1.63427\n",
      "Name: count, dtype: float64\n",
      "compte : Effusion\n",
      "0    70587\n",
      "1     7919\n",
      "Name: count, dtype: int64 pourcentage :  Effusion\n",
      "0    89.912873\n",
      "1    10.087127\n",
      "Name: count, dtype: float64\n",
      "compte : Emphysema\n",
      "0    77179\n",
      "1     1327\n",
      "Name: count, dtype: int64 pourcentage :  Emphysema\n",
      "0    98.309683\n",
      "1     1.690317\n",
      "Name: count, dtype: float64\n",
      "compte : Fibrosis\n",
      "0    77368\n",
      "1     1138\n",
      "Name: count, dtype: int64 pourcentage :  Fibrosis\n",
      "0    98.550429\n",
      "1     1.449571\n",
      "Name: count, dtype: float64\n",
      "compte : Hernia\n",
      "0    78376\n",
      "1      130\n",
      "Name: count, dtype: int64 pourcentage :  Hernia\n",
      "0    99.834408\n",
      "1     0.165592\n",
      "Name: count, dtype: float64\n",
      "compte : Infiltration\n",
      "0    65767\n",
      "1    12739\n",
      "Name: count, dtype: int64 pourcentage :  Infiltration\n",
      "0    83.773215\n",
      "1    16.226785\n",
      "Name: count, dtype: float64\n",
      "compte : Mass\n",
      "0    74817\n",
      "1     3689\n",
      "Name: count, dtype: int64 pourcentage :  Mass\n",
      "0    95.300996\n",
      "1     4.699004\n",
      "Name: count, dtype: float64\n",
      "compte : Nodule\n",
      "0    74147\n",
      "1     4359\n",
      "Name: count, dtype: int64 pourcentage :  Nodule\n",
      "0    94.447558\n",
      "1     5.552442\n",
      "Name: count, dtype: float64\n",
      "compte : Pleural Thickening\n",
      "0    76508\n",
      "1     1998\n",
      "Name: count, dtype: int64 pourcentage :  Pleural Thickening\n",
      "0    97.454972\n",
      "1     2.545028\n",
      "Name: count, dtype: float64\n",
      "compte : Pneumonia\n",
      "0    77700\n",
      "1      806\n",
      "Name: count, dtype: int64 pourcentage :  Pneumonia\n",
      "0    98.973327\n",
      "1     1.026673\n",
      "Name: count, dtype: float64\n",
      "compte : Pneumothorax\n",
      "0    76074\n",
      "1     2432\n",
      "Name: count, dtype: int64 pourcentage :  Pneumothorax\n",
      "0    96.902148\n",
      "1     3.097852\n",
      "Name: count, dtype: float64\n",
      "compte : Pneumoperitoneum\n",
      "0    78292\n",
      "1      214\n",
      "Name: count, dtype: int64 pourcentage :  Pneumoperitoneum\n",
      "0    99.727409\n",
      "1     0.272591\n",
      "Name: count, dtype: float64\n",
      "compte : Pneumomediastinum\n",
      "0    78418\n",
      "1       88\n",
      "Name: count, dtype: int64 pourcentage :  Pneumomediastinum\n",
      "0    99.887907\n",
      "1     0.112093\n",
      "Name: count, dtype: float64\n",
      "compte : Subcutaneous Emphysema\n",
      "0    77549\n",
      "1      957\n",
      "Name: count, dtype: int64 pourcentage :  Subcutaneous Emphysema\n",
      "0    98.780985\n",
      "1     1.219015\n",
      "Name: count, dtype: float64\n",
      "compte : Tortuous Aorta\n",
      "0    77908\n",
      "1      598\n",
      "Name: count, dtype: int64 pourcentage :  Tortuous Aorta\n",
      "0    99.238275\n",
      "1     0.761725\n",
      "Name: count, dtype: float64\n",
      "compte : Calcification of the Aorta\n",
      "0    78138\n",
      "1      368\n",
      "Name: count, dtype: int64 pourcentage :  Calcification of the Aorta\n",
      "0    99.531246\n",
      "1     0.468754\n",
      "Name: count, dtype: float64\n",
      "compte : No Finding\n",
      "1    44625\n",
      "0    33881\n",
      "Name: count, dtype: int64 pourcentage :  No Finding\n",
      "1    56.842789\n",
      "0    43.157211\n",
      "Name: count, dtype: float64\n"
     ]
    }
   ],
   "source": [
    "for column in y.columns:\n",
    "    value_counts = y[column].value_counts()\n",
    "    pourcentage = value_counts/len(y)*100\n",
    "    \n",
    "    print(\"compte :\", value_counts, \"pourcentage : \", pourcentage)"
   ]
  },
  {
   "cell_type": "markdown",
   "id": "5150537c",
   "metadata": {},
   "source": [
    "# Compute Class Frequencies"
   ]
  },
  {
   "cell_type": "code",
   "execution_count": 18,
   "id": "19579247",
   "metadata": {},
   "outputs": [
    {
     "name": "stdout",
     "output_type": "stream",
     "text": [
      "Poids de classe :\n",
      "{0: 0.5327327372159004, 1: 8.137613632829911}\n"
     ]
    }
   ],
   "source": [
    "from sklearn.utils.class_weight import compute_class_weight\n",
    "\n",
    "labels1 = df[['Atelectasis', 'Cardiomegaly', 'Consolidation', 'Edema',\n",
    "       'Effusion', 'Emphysema', 'Fibrosis', 'Hernia', 'Infiltration', 'Mass',\n",
    "       'Nodule', 'Pleural Thickening', 'Pneumonia', 'Pneumothorax',\n",
    "       'Pneumoperitoneum', 'Pneumomediastinum', 'Subcutaneous Emphysema',\n",
    "       'Tortuous Aorta', 'Calcification of the Aorta', 'No Finding']]  \n",
    "\n",
    "labels_array = labels1.values  \n",
    "\n",
    "# Calculez les poids de classe\n",
    "class_weights = compute_class_weight('balanced', classes=np.unique(labels_array), y=labels_array.flatten())\n",
    "\n",
    "# Créez un dictionnaire de poids de classe\n",
    "class_weight_dict = dict(zip(np.unique(labels_array), class_weights))\n",
    "\n",
    "# Affichez le dictionnaire de poids de classe\n",
    "print(\"Poids de classe :\")\n",
    "print(class_weight_dict)"
   ]
  },
  {
   "cell_type": "code",
   "execution_count": null,
   "id": "5bcd3906",
   "metadata": {},
   "outputs": [],
   "source": []
  },
  {
   "cell_type": "markdown",
   "id": "1db5e31a",
   "metadata": {},
   "source": [
    "# Split"
   ]
  },
  {
   "cell_type": "code",
   "execution_count": 19,
   "id": "552ab688",
   "metadata": {},
   "outputs": [],
   "source": [
    "train_df, test_df = train_test_split(df, test_size=0.2, random_state=42)"
   ]
  },
  {
   "cell_type": "markdown",
   "id": "d53a9140",
   "metadata": {},
   "source": [
    "# Vérification images"
   ]
  },
  {
   "cell_type": "code",
   "execution_count": 20,
   "id": "5c30df93",
   "metadata": {},
   "outputs": [],
   "source": [
    "image = r\"C:\\Users\\nico_\\Desktop\\thorax_xray\\images\\00006585_007.png\""
   ]
  },
  {
   "cell_type": "code",
   "execution_count": 21,
   "id": "52d6ee7c",
   "metadata": {},
   "outputs": [],
   "source": [
    "import cv2 as cv"
   ]
  },
  {
   "cell_type": "code",
   "execution_count": 22,
   "id": "d5dc37df",
   "metadata": {},
   "outputs": [],
   "source": [
    "img = cv.imread(image)"
   ]
  },
  {
   "cell_type": "code",
   "execution_count": 23,
   "id": "f63a4556",
   "metadata": {},
   "outputs": [
    {
     "data": {
      "text/plain": [
       "(1024, 1024, 3)"
      ]
     },
     "execution_count": 23,
     "metadata": {},
     "output_type": "execute_result"
    }
   ],
   "source": [
    "img.shape"
   ]
  },
  {
   "cell_type": "code",
   "execution_count": 24,
   "id": "0588eeca",
   "metadata": {},
   "outputs": [
    {
     "data": {
      "image/png": "[encoded data removed]",
      "text/plain": [
       "<Figure size 640x480 with 1 Axes>"
      ]
     },
     "metadata": {},
     "output_type": "display_data"
    }
   ],
   "source": [
    "plt.imshow(cv.cvtColor(img, cv.COLOR_BGR2RGB))\n",
    "plt.show()"
   ]
  },
  {
   "cell_type": "markdown",
   "id": "a186c382",
   "metadata": {},
   "source": [
    "# Redimensionnement des images 1024x1024 en 150x150"
   ]
  },
  {
   "cell_type": "markdown",
   "id": "24dbcc98",
   "metadata": {},
   "source": [
    "Création d'un nouveau répertoire \"images_resized\" avec les images redimensonnées"
   ]
  },
  {
   "cell_type": "code",
   "execution_count": 25,
   "id": "ae89e5b7",
   "metadata": {},
   "outputs": [
    {
     "name": "stdout",
     "output_type": "stream",
     "text": [
      "Conversion terminée.\n"
     ]
    }
   ],
   "source": [
    "# Chemin vers le répertoire contenant les images\n",
    "input_dir = r\"C:\\Users\\nico_\\Desktop\\thorax_xray\\images\"\n",
    "output_dir = r\"C:\\Users\\nico_\\Desktop\\thorax_xray\\images_resized\"\n",
    "\n",
    "# Créer le répertoire de sortie s'il n'existe pas\n",
    "os.makedirs(output_dir, exist_ok=True)\n",
    "\n",
    "# Parcourir toutes les images dans le répertoire d'entrée\n",
    "for filename in os.listdir(input_dir):\n",
    "    if filename.endswith(\".png\"):  # ou tout autre format d'image que vous avez\n",
    "        # Chemin d'entrée et de sortie pour chaque image\n",
    "        input_path = os.path.join(input_dir, filename)\n",
    "        \n",
    "        # Ouvrir l'image\n",
    "        img = Image.open(input_path)\n",
    "\n",
    "        # Redimensionner l'image à 150x150\n",
    "        img_resized = img.resize((150, 150))\n",
    "\n",
    "        # Chemin de sortie pour chaque image redimensionnée\n",
    "        output_path = os.path.join(output_dir, filename)\n",
    "\n",
    "        # Enregistrer l'image redimensionnée dans le répertoire de sortie\n",
    "        img_resized.save(output_path)\n",
    "\n",
    "print(\"Conversion terminée.\")\n"
   ]
  },
  {
   "cell_type": "markdown",
   "id": "3640bc99",
   "metadata": {},
   "source": [
    "# Redimensionnement des images 1024x1024 en 320x320"
   ]
  },
  {
   "cell_type": "code",
   "execution_count": 49,
   "id": "865b3fd3",
   "metadata": {},
   "outputs": [
    {
     "name": "stdout",
     "output_type": "stream",
     "text": [
      "Conversion terminée.\n"
     ]
    }
   ],
   "source": [
    "# Chemin vers le répertoire contenant les images\n",
    "input_dir = r\"C:\\Users\\nico_\\Desktop\\thorax_xray\\images\"\n",
    "output_dir = r\"C:\\Users\\nico_\\Desktop\\thorax_xray\\images_resized320\"\n",
    "\n",
    "# Créer le répertoire de sortie s'il n'existe pas\n",
    "os.makedirs(output_dir, exist_ok=True)\n",
    "\n",
    "# Parcourir toutes les images dans le répertoire d'entrée\n",
    "for filename in os.listdir(input_dir):\n",
    "    if filename.endswith(\".png\"):  # ou tout autre format d'image que vous avez\n",
    "        # Chemin d'entrée et de sortie pour chaque image\n",
    "        input_path = os.path.join(input_dir, filename)\n",
    "        \n",
    "        # Ouvrir l'image\n",
    "        img = Image.open(input_path)\n",
    "\n",
    "        # Redimensionner l'image à 150x150\n",
    "        img_resized320 = img.resize((150, 150))\n",
    "\n",
    "        # Chemin de sortie pour chaque image redimensionnée\n",
    "        output_path = os.path.join(output_dir, filename)\n",
    "\n",
    "        # Enregistrer l'image redimensionnée dans le répertoire de sortie\n",
    "        img_resized320.save(output_path)\n",
    "\n",
    "print(\"Conversion terminée.\")"
   ]
  },
  {
   "cell_type": "markdown",
   "id": "473c5063",
   "metadata": {},
   "source": [
    "# ImageDataGenerator"
   ]
  },
  {
   "cell_type": "code",
   "execution_count": 28,
   "id": "9f598809",
   "metadata": {},
   "outputs": [],
   "source": [
    "#train_datagen = ImageDataGenerator( rescale = 1.0/255. )\n",
    "#test_datagen  = ImageDataGenerator( rescale = 1.0/255. )"
   ]
  },
  {
   "cell_type": "code",
   "execution_count": 50,
   "id": "68b9d3b1",
   "metadata": {},
   "outputs": [],
   "source": [
    "image_generator = ImageDataGenerator(\n",
    "        samplewise_center=True,\n",
    "        samplewise_std_normalization= True)"
   ]
  },
  {
   "cell_type": "code",
   "execution_count": 51,
   "id": "4eb1da0d",
   "metadata": {},
   "outputs": [],
   "source": [
    "image_dir = r\"C:\\Users\\nico_\\Desktop\\thorax_xray\\images_resized320\""
   ]
  },
  {
   "cell_type": "code",
   "execution_count": 27,
   "id": "53c993ec",
   "metadata": {},
   "outputs": [],
   "source": [
    "#image_dir = r\"C:\\Users\\nico_\\Desktop\\thorax_xray\\images_resized\""
   ]
  },
  {
   "cell_type": "code",
   "execution_count": 29,
   "id": "add9702f",
   "metadata": {},
   "outputs": [],
   "source": [
    "#image_dir = r\"C:\\Users\\nico_\\Desktop\\thorax_xray\\images\""
   ]
  },
  {
   "cell_type": "code",
   "execution_count": 52,
   "id": "54f1e252",
   "metadata": {},
   "outputs": [],
   "source": [
    "import os\n",
    "\n",
    "# Liste de tous les fichiers dans le répertoire d'images\n",
    "all_files = os.listdir(image_dir)\n",
    "\n",
    "# Liste des fichiers dans le dataframe\n",
    "df_files = df['id'].tolist()\n",
    "\n",
    "# Vérification des fichiers manquants\n",
    "missing_files = []\n",
    "for file in df_files:\n",
    "    if file not in all_files:\n",
    "        missing_files.append(file)\n",
    "\n",
    "# Suppression des lignes correspondantes dans le dataframe\n",
    "df = df[~df['id'].isin(missing_files)]"
   ]
  },
  {
   "cell_type": "code",
   "execution_count": 53,
   "id": "cecfbab9",
   "metadata": {},
   "outputs": [
    {
     "data": {
      "text/plain": [
       "id                            0\n",
       "Atelectasis                   0\n",
       "Cardiomegaly                  0\n",
       "Consolidation                 0\n",
       "Edema                         0\n",
       "Effusion                      0\n",
       "Emphysema                     0\n",
       "Fibrosis                      0\n",
       "Hernia                        0\n",
       "Infiltration                  0\n",
       "Mass                          0\n",
       "Nodule                        0\n",
       "Pleural Thickening            0\n",
       "Pneumonia                     0\n",
       "Pneumothorax                  0\n",
       "Pneumoperitoneum              0\n",
       "Pneumomediastinum             0\n",
       "Subcutaneous Emphysema        0\n",
       "Tortuous Aorta                0\n",
       "Calcification of the Aorta    0\n",
       "No Finding                    0\n",
       "dtype: int64"
      ]
     },
     "execution_count": 53,
     "metadata": {},
     "output_type": "execute_result"
    }
   ],
   "source": [
    "df.isnull().sum()"
   ]
  },
  {
   "cell_type": "code",
   "execution_count": 54,
   "id": "4ff484b4",
   "metadata": {},
   "outputs": [
    {
     "data": {
      "text/html": [
       "<div>\n",
       "<style scoped>\n",
       "    .dataframe tbody tr th:only-of-type {\n",
       "        vertical-align: middle;\n",
       "    }\n",
       "\n",
       "    .dataframe tbody tr th {\n",
       "        vertical-align: top;\n",
       "    }\n",
       "\n",
       "    .dataframe thead th {\n",
       "        text-align: right;\n",
       "    }\n",
       "</style>\n",
       "<table border=\"1\" class=\"dataframe\">\n",
       "  <thead>\n",
       "    <tr style=\"text-align: right;\">\n",
       "      <th></th>\n",
       "      <th>id</th>\n",
       "      <th>Atelectasis</th>\n",
       "      <th>Cardiomegaly</th>\n",
       "      <th>Consolidation</th>\n",
       "      <th>Edema</th>\n",
       "      <th>Effusion</th>\n",
       "      <th>Emphysema</th>\n",
       "      <th>Fibrosis</th>\n",
       "      <th>Hernia</th>\n",
       "      <th>Infiltration</th>\n",
       "      <th>...</th>\n",
       "      <th>Nodule</th>\n",
       "      <th>Pleural Thickening</th>\n",
       "      <th>Pneumonia</th>\n",
       "      <th>Pneumothorax</th>\n",
       "      <th>Pneumoperitoneum</th>\n",
       "      <th>Pneumomediastinum</th>\n",
       "      <th>Subcutaneous Emphysema</th>\n",
       "      <th>Tortuous Aorta</th>\n",
       "      <th>Calcification of the Aorta</th>\n",
       "      <th>No Finding</th>\n",
       "    </tr>\n",
       "  </thead>\n",
       "  <tbody>\n",
       "    <tr>\n",
       "      <th>57770</th>\n",
       "      <td>00019060_000.png</td>\n",
       "      <td>0</td>\n",
       "      <td>0</td>\n",
       "      <td>0</td>\n",
       "      <td>0</td>\n",
       "      <td>0</td>\n",
       "      <td>0</td>\n",
       "      <td>0</td>\n",
       "      <td>0</td>\n",
       "      <td>0</td>\n",
       "      <td>...</td>\n",
       "      <td>0</td>\n",
       "      <td>0</td>\n",
       "      <td>0</td>\n",
       "      <td>0</td>\n",
       "      <td>0</td>\n",
       "      <td>0</td>\n",
       "      <td>0</td>\n",
       "      <td>0</td>\n",
       "      <td>0</td>\n",
       "      <td>1</td>\n",
       "    </tr>\n",
       "    <tr>\n",
       "      <th>63874</th>\n",
       "      <td>00021186_000.png</td>\n",
       "      <td>0</td>\n",
       "      <td>0</td>\n",
       "      <td>0</td>\n",
       "      <td>0</td>\n",
       "      <td>0</td>\n",
       "      <td>0</td>\n",
       "      <td>0</td>\n",
       "      <td>0</td>\n",
       "      <td>1</td>\n",
       "      <td>...</td>\n",
       "      <td>0</td>\n",
       "      <td>0</td>\n",
       "      <td>0</td>\n",
       "      <td>0</td>\n",
       "      <td>0</td>\n",
       "      <td>0</td>\n",
       "      <td>0</td>\n",
       "      <td>0</td>\n",
       "      <td>0</td>\n",
       "      <td>0</td>\n",
       "    </tr>\n",
       "    <tr>\n",
       "      <th>16935</th>\n",
       "      <td>00005722_000.png</td>\n",
       "      <td>0</td>\n",
       "      <td>0</td>\n",
       "      <td>0</td>\n",
       "      <td>0</td>\n",
       "      <td>0</td>\n",
       "      <td>0</td>\n",
       "      <td>0</td>\n",
       "      <td>0</td>\n",
       "      <td>0</td>\n",
       "      <td>...</td>\n",
       "      <td>0</td>\n",
       "      <td>0</td>\n",
       "      <td>0</td>\n",
       "      <td>0</td>\n",
       "      <td>0</td>\n",
       "      <td>0</td>\n",
       "      <td>0</td>\n",
       "      <td>0</td>\n",
       "      <td>0</td>\n",
       "      <td>1</td>\n",
       "    </tr>\n",
       "    <tr>\n",
       "      <th>63166</th>\n",
       "      <td>00020947_008.png</td>\n",
       "      <td>0</td>\n",
       "      <td>0</td>\n",
       "      <td>0</td>\n",
       "      <td>0</td>\n",
       "      <td>1</td>\n",
       "      <td>0</td>\n",
       "      <td>0</td>\n",
       "      <td>0</td>\n",
       "      <td>1</td>\n",
       "      <td>...</td>\n",
       "      <td>1</td>\n",
       "      <td>0</td>\n",
       "      <td>0</td>\n",
       "      <td>0</td>\n",
       "      <td>0</td>\n",
       "      <td>0</td>\n",
       "      <td>0</td>\n",
       "      <td>0</td>\n",
       "      <td>0</td>\n",
       "      <td>0</td>\n",
       "    </tr>\n",
       "    <tr>\n",
       "      <th>35405</th>\n",
       "      <td>00011573_000.png</td>\n",
       "      <td>0</td>\n",
       "      <td>0</td>\n",
       "      <td>0</td>\n",
       "      <td>0</td>\n",
       "      <td>0</td>\n",
       "      <td>0</td>\n",
       "      <td>0</td>\n",
       "      <td>0</td>\n",
       "      <td>0</td>\n",
       "      <td>...</td>\n",
       "      <td>0</td>\n",
       "      <td>0</td>\n",
       "      <td>0</td>\n",
       "      <td>0</td>\n",
       "      <td>0</td>\n",
       "      <td>0</td>\n",
       "      <td>0</td>\n",
       "      <td>0</td>\n",
       "      <td>0</td>\n",
       "      <td>1</td>\n",
       "    </tr>\n",
       "  </tbody>\n",
       "</table>\n",
       "<p>5 rows × 21 columns</p>\n",
       "</div>"
      ],
      "text/plain": [
       "                     id  Atelectasis  Cardiomegaly  Consolidation  Edema  \\\n",
       "57770  00019060_000.png            0             0              0      0   \n",
       "63874  00021186_000.png            0             0              0      0   \n",
       "16935  00005722_000.png            0             0              0      0   \n",
       "63166  00020947_008.png            0             0              0      0   \n",
       "35405  00011573_000.png            0             0              0      0   \n",
       "\n",
       "       Effusion  Emphysema  Fibrosis  Hernia  Infiltration  ...  Nodule  \\\n",
       "57770         0          0         0       0             0  ...       0   \n",
       "63874         0          0         0       0             1  ...       0   \n",
       "16935         0          0         0       0             0  ...       0   \n",
       "63166         1          0         0       0             1  ...       1   \n",
       "35405         0          0         0       0             0  ...       0   \n",
       "\n",
       "       Pleural Thickening  Pneumonia  Pneumothorax  Pneumoperitoneum  \\\n",
       "57770                   0          0             0                 0   \n",
       "63874                   0          0             0                 0   \n",
       "16935                   0          0             0                 0   \n",
       "63166                   0          0             0                 0   \n",
       "35405                   0          0             0                 0   \n",
       "\n",
       "       Pneumomediastinum  Subcutaneous Emphysema  Tortuous Aorta  \\\n",
       "57770                  0                       0               0   \n",
       "63874                  0                       0               0   \n",
       "16935                  0                       0               0   \n",
       "63166                  0                       0               0   \n",
       "35405                  0                       0               0   \n",
       "\n",
       "       Calcification of the Aorta  No Finding  \n",
       "57770                           0           1  \n",
       "63874                           0           0  \n",
       "16935                           0           1  \n",
       "63166                           0           0  \n",
       "35405                           0           1  \n",
       "\n",
       "[5 rows x 21 columns]"
      ]
     },
     "execution_count": 54,
     "metadata": {},
     "output_type": "execute_result"
    }
   ],
   "source": [
    "train_df.head()"
   ]
  },
  {
   "cell_type": "code",
   "execution_count": 55,
   "id": "8dd0f6cc",
   "metadata": {},
   "outputs": [],
   "source": [
    "labels = ['Atelectasis', 'Cardiomegaly', 'Consolidation', 'Edema',\n",
    "       'Effusion', 'Emphysema', 'Fibrosis', 'Hernia', 'Infiltration', 'Mass',\n",
    "       'Nodule', 'Pleural Thickening', 'Pneumonia', 'Pneumothorax',\n",
    "       'Pneumoperitoneum', 'Pneumomediastinum', 'Subcutaneous Emphysema',\n",
    "       'Tortuous Aorta', 'Calcification of the Aorta', 'No Finding']"
   ]
  },
  {
   "cell_type": "code",
   "execution_count": 56,
   "id": "c47447f6",
   "metadata": {},
   "outputs": [],
   "source": [
    "#train_generator = train_datagen.flow_from_dataframe(dataframe=train_df,directory=image_dir, x_col= \"id\",\n",
    "#                                                   y_col=labels, class_mode='raw', batch_size=20,\n",
    "#                                                   target_size = (150, 150), shuffle=True, seed=42)"
   ]
  },
  {
   "cell_type": "code",
   "execution_count": 57,
   "id": "97e8ba5c",
   "metadata": {},
   "outputs": [
    {
     "name": "stdout",
     "output_type": "stream",
     "text": [
      "Found 6397 validated image filenames.\n"
     ]
    },
    {
     "name": "stderr",
     "output_type": "stream",
     "text": [
      "C:\\Users\\nico_\\anaconda3\\Lib\\site-packages\\keras\\src\\preprocessing\\image.py:1137: UserWarning: Found 56407 invalid image filename(s) in x_col=\"id\". These filename(s) will be ignored.\n",
      "  warnings.warn(\n"
     ]
    }
   ],
   "source": [
    "train_generator = image_generator.flow_from_dataframe(dataframe=train_df,directory=image_dir, x_col= \"id\",\n",
    "                                                   y_col=labels, class_mode='raw', batch_size=20,\n",
    "                                                   target_size = (150, 150), shuffle=True, seed=42)"
   ]
  },
  {
   "cell_type": "markdown",
   "id": "199c4e36",
   "metadata": {},
   "source": [
    "# Calcul des poids pour équilibrer les classes"
   ]
  },
  {
   "cell_type": "markdown",
   "id": "557c5778",
   "metadata": {},
   "source": [
    "wcross−entropy(x) = −(wp ylog(f(x)) + wn(1−y) log(1−f(x)))"
   ]
  },
  {
   "cell_type": "code",
   "execution_count": 58,
   "id": "afb6b3ff",
   "metadata": {},
   "outputs": [],
   "source": [
    "def compute_class_freqs(labels):\n",
    "    \n",
    "    N = len(labels)\n",
    "    \n",
    "    positive_frequencies = sum(labels)/N\n",
    "    negative_frequencies = 1 - positive_frequencies\n",
    "\n",
    "    return positive_frequencies, negative_frequencies "
   ]
  },
  {
   "cell_type": "code",
   "execution_count": 59,
   "id": "2f83fb73",
   "metadata": {},
   "outputs": [],
   "source": [
    "freq_pos, freq_neg = compute_class_freqs(train_generator.labels)"
   ]
  },
  {
   "cell_type": "code",
   "execution_count": 60,
   "id": "9dc3e27e",
   "metadata": {},
   "outputs": [
    {
     "data": {
      "text/plain": [
       "array([0.10129748, 0.01469439, 0.02704393, 0.01016101, 0.09082382,\n",
       "       0.020791  , 0.01328748, 0.00250117, 0.11974363, 0.03939347,\n",
       "       0.05486947, 0.02235423, 0.00906675, 0.03063936, 0.00281382,\n",
       "       0.00156323, 0.01625762, 0.00656558, 0.00328279, 0.61528842])"
      ]
     },
     "execution_count": 60,
     "metadata": {},
     "output_type": "execute_result"
    }
   ],
   "source": [
    "freq_pos"
   ]
  },
  {
   "cell_type": "code",
   "execution_count": 61,
   "id": "aec14b7e",
   "metadata": {},
   "outputs": [
    {
     "data": {
      "text/plain": [
       "array([0.89870252, 0.98530561, 0.97295607, 0.98983899, 0.90917618,\n",
       "       0.979209  , 0.98671252, 0.99749883, 0.88025637, 0.96060653,\n",
       "       0.94513053, 0.97764577, 0.99093325, 0.96936064, 0.99718618,\n",
       "       0.99843677, 0.98374238, 0.99343442, 0.99671721, 0.38471158])"
      ]
     },
     "execution_count": 61,
     "metadata": {},
     "output_type": "execute_result"
    }
   ],
   "source": [
    "freq_neg"
   ]
  },
  {
   "cell_type": "code",
   "execution_count": 62,
   "id": "ef99c72d",
   "metadata": {},
   "outputs": [],
   "source": [
    "pos_weights = freq_neg\n",
    "neg_weights = freq_pos"
   ]
  },
  {
   "cell_type": "code",
   "execution_count": 63,
   "id": "7759ec2d",
   "metadata": {},
   "outputs": [],
   "source": [
    "pos_contribution = freq_pos * pos_weights \n",
    "neg_contribution = freq_neg * neg_weights"
   ]
  },
  {
   "cell_type": "code",
   "execution_count": 64,
   "id": "a7afd17a",
   "metadata": {},
   "outputs": [
    {
     "data": {
      "text/plain": [
       "array([0.0910363 , 0.01447846, 0.02631255, 0.01005777, 0.08257486,\n",
       "       0.02035873, 0.01311092, 0.00249492, 0.10540509, 0.03784162,\n",
       "       0.05185881, 0.02185452, 0.00898454, 0.02970059, 0.0028059 ,\n",
       "       0.00156079, 0.01599331, 0.00652247, 0.00327201, 0.23670858])"
      ]
     },
     "execution_count": 64,
     "metadata": {},
     "output_type": "execute_result"
    }
   ],
   "source": [
    "pos_contribution "
   ]
  },
  {
   "cell_type": "code",
   "execution_count": 65,
   "id": "34387881",
   "metadata": {},
   "outputs": [
    {
     "data": {
      "text/plain": [
       "array([0.0910363 , 0.01447846, 0.02631255, 0.01005777, 0.08257486,\n",
       "       0.02035873, 0.01311092, 0.00249492, 0.10540509, 0.03784162,\n",
       "       0.05185881, 0.02185452, 0.00898454, 0.02970059, 0.0028059 ,\n",
       "       0.00156079, 0.01599331, 0.00652247, 0.00327201, 0.23670858])"
      ]
     },
     "execution_count": 65,
     "metadata": {},
     "output_type": "execute_result"
    }
   ],
   "source": [
    " neg_contribution "
   ]
  },
  {
   "cell_type": "code",
   "execution_count": null,
   "id": "6df800a0",
   "metadata": {},
   "outputs": [],
   "source": []
  },
  {
   "cell_type": "code",
   "execution_count": 66,
   "id": "52081919",
   "metadata": {},
   "outputs": [],
   "source": [
    "def get_weighted_loss(pos_weights, neg_weights, epsilon=1e-7):\n",
    "    \n",
    "    def weighted_loss(y_true, y_pred):\n",
    "        # initialize loss \n",
    "        loss = 0.0\n",
    "\n",
    "        for i in range(len(pos_weights)):\n",
    "            # convertion des types de données \n",
    "            pos_weight = K.cast(pos_weights[i], dtype=K.floatx())\n",
    "            neg_weight = K.cast(neg_weights[i], dtype=K.floatx())\n",
    "            \n",
    "            # convertion y_true en float32\n",
    "            y_true_float = K.cast(y_true, dtype=K.floatx())\n",
    "            \n",
    "            # calcul de la perte pondérée pour chaque classe\n",
    "            loss_pos = -1 * K.mean(pos_weight * y_true_float[:, i] * K.log(y_pred[:, i] + epsilon))\n",
    "            loss_neg = -1 * K.mean(neg_weight * (1 - y_true_float[:, i]) * K.log(1 - y_pred[:, i] + epsilon))\n",
    "            \n",
    "            loss += loss_pos + loss_neg\n",
    "\n",
    "        return loss\n",
    "    \n",
    "    return weighted_loss\n"
   ]
  },
  {
   "cell_type": "code",
   "execution_count": null,
   "id": "c5e4a4d3",
   "metadata": {},
   "outputs": [],
   "source": []
  },
  {
   "cell_type": "code",
   "execution_count": 67,
   "id": "cf8a9bf4",
   "metadata": {},
   "outputs": [],
   "source": [
    "#validation_generator = test_datagen.flow_from_dataframe(dataframe=test_df, directory=image_dir, x_col=\"id\",\n",
    "#                                                       y_col=labels, class_mode='raw', batch_size=20,\n",
    "#                                                       target_size=(150,150), shuffle=False, seed=42)"
   ]
  },
  {
   "cell_type": "code",
   "execution_count": 68,
   "id": "b9eabd53",
   "metadata": {},
   "outputs": [
    {
     "name": "stdout",
     "output_type": "stream",
     "text": [
      "Found 1572 validated image filenames.\n"
     ]
    },
    {
     "name": "stderr",
     "output_type": "stream",
     "text": [
      "C:\\Users\\nico_\\anaconda3\\Lib\\site-packages\\keras\\src\\preprocessing\\image.py:1137: UserWarning: Found 14130 invalid image filename(s) in x_col=\"id\". These filename(s) will be ignored.\n",
      "  warnings.warn(\n"
     ]
    }
   ],
   "source": [
    "validation_generator = image_generator.flow_from_dataframe(dataframe=test_df, directory=image_dir, x_col=\"id\",\n",
    "                                                       y_col=labels, class_mode='raw', batch_size=20,\n",
    "                                                       target_size=(150,150), shuffle=False, seed=42)"
   ]
  },
  {
   "cell_type": "markdown",
   "id": "897f83b6",
   "metadata": {},
   "source": [
    "# Model DenseNet"
   ]
  },
  {
   "cell_type": "code",
   "execution_count": 78,
   "id": "51a042e1",
   "metadata": {},
   "outputs": [],
   "source": [
    "model = DenseNet121(weights='imagenet', include_top=False)"
   ]
  },
  {
   "cell_type": "code",
   "execution_count": 79,
   "id": "6cc6abcd",
   "metadata": {},
   "outputs": [],
   "source": [
    "x = model.output\n",
    "\n",
    "# Ajout d'une nouvelle couche fully-connected pour la classification binaire pour chaque classe\n",
    "x = GlobalAveragePooling2D()(x)\n",
    "prediction = Dense(len(labels), activation='sigmoid')(x)\n",
    "model = Model(inputs=model.input, outputs=prediction)\n",
    "\n",
    "#model.compile(optimizer='adam', loss='binary_crossentropy' ,metrics=[\"accuracy\"])\n",
    "model.compile(optimizer='adam', loss=get_weighted_loss(pos_weights, neg_weights), metrics = ['accuracy'])\n",
    "\n",
    "# Compilez le modèle en utilisant les poids de classe équilibrés\n",
    "# model.compile(optimizer=Adam(), loss='binary_crossentropy', metrics=['accuracy'], class_weight=class_weights)"
   ]
  },
  {
   "cell_type": "markdown",
   "id": "e86f4114",
   "metadata": {},
   "source": [
    "# Calcul des steps : steps = nombre d'images / batch_size"
   ]
  },
  {
   "cell_type": "code",
   "execution_count": 80,
   "id": "a60f4292",
   "metadata": {},
   "outputs": [],
   "source": [
    "train_steps = 6397 // 20  \n",
    "val_steps = 1572 // 20"
   ]
  },
  {
   "cell_type": "code",
   "execution_count": 81,
   "id": "e315cdcd",
   "metadata": {},
   "outputs": [
    {
     "name": "stdout",
     "output_type": "stream",
     "text": [
      "Epoch 1/50\n",
      "319/319 [==============================] - 1675s 5s/step - loss: 1.0954 - accuracy: 0.1422 - val_loss: 4.2853 - val_accuracy: 0.0218\n",
      "Epoch 2/50\n",
      "319/319 [==============================] - 1606s 5s/step - loss: 1.0368 - accuracy: 0.1763 - val_loss: 12.4762 - val_accuracy: 0.0981\n",
      "Epoch 3/50\n",
      "319/319 [==============================] - 1598s 5s/step - loss: 1.0242 - accuracy: 0.2045 - val_loss: 11.2065 - val_accuracy: 0.0083\n",
      "Epoch 4/50\n",
      "319/319 [==============================] - 1596s 5s/step - loss: 1.0203 - accuracy: 0.2261 - val_loss: 1.7594 - val_accuracy: 0.1487\n",
      "Epoch 5/50\n",
      "319/319 [==============================] - 1594s 5s/step - loss: 0.9845 - accuracy: 0.2244 - val_loss: 1.0553 - val_accuracy: 0.0821\n",
      "Epoch 6/50\n",
      "319/319 [==============================] - 1632s 5s/step - loss: 0.9706 - accuracy: 0.2227 - val_loss: 0.9792 - val_accuracy: 0.2468\n",
      "Epoch 7/50\n",
      "319/319 [==============================] - 1605s 5s/step - loss: 0.9490 - accuracy: 0.2137 - val_loss: 11.9765 - val_accuracy: 0.0981\n",
      "Epoch 8/50\n",
      "319/319 [==============================] - 1598s 5s/step - loss: 0.9436 - accuracy: 0.2669 - val_loss: 0.9993 - val_accuracy: 0.2987\n",
      "Epoch 9/50\n",
      "319/319 [==============================] - 1595s 5s/step - loss: 0.9384 - accuracy: 0.2702 - val_loss: 1.1082 - val_accuracy: 0.1801\n",
      "Epoch 10/50\n",
      "319/319 [==============================] - 1590s 5s/step - loss: 0.9139 - accuracy: 0.2515 - val_loss: 1.0936 - val_accuracy: 0.0519\n",
      "Epoch 11/50\n",
      "319/319 [==============================] - 1600s 5s/step - loss: 0.9523 - accuracy: 0.2162 - val_loss: 1.1728 - val_accuracy: 0.2231\n",
      "Epoch 12/50\n",
      "319/319 [==============================] - 1598s 5s/step - loss: 0.9096 - accuracy: 0.2885 - val_loss: 1.1478 - val_accuracy: 0.0513\n",
      "Epoch 13/50\n",
      "319/319 [==============================] - 1594s 5s/step - loss: 0.8779 - accuracy: 0.2600 - val_loss: 1.0585 - val_accuracy: 0.3442\n",
      "Epoch 14/50\n",
      "319/319 [==============================] - 1594s 5s/step - loss: 0.8678 - accuracy: 0.3022 - val_loss: 1.1486 - val_accuracy: 0.1917\n",
      "Epoch 15/50\n",
      "319/319 [==============================] - 1600s 5s/step - loss: 0.8501 - accuracy: 0.2989 - val_loss: 1.0743 - val_accuracy: 0.2865\n",
      "Epoch 16/50\n",
      "319/319 [==============================] - 1601s 5s/step - loss: 0.8561 - accuracy: 0.3130 - val_loss: 1.3533 - val_accuracy: 0.0449\n",
      "Epoch 17/50\n",
      "319/319 [==============================] - 1597s 5s/step - loss: 0.8443 - accuracy: 0.3169 - val_loss: 1.1805 - val_accuracy: 0.3878\n",
      "Epoch 18/50\n",
      "319/319 [==============================] - 1594s 5s/step - loss: 0.7934 - accuracy: 0.3456 - val_loss: 0.9883 - val_accuracy: 0.2423\n",
      "Epoch 19/50\n",
      "319/319 [==============================] - 1595s 5s/step - loss: 0.7690 - accuracy: 0.3682 - val_loss: 1.1656 - val_accuracy: 0.1442\n",
      "Epoch 20/50\n",
      "319/319 [==============================] - 1595s 5s/step - loss: 0.7372 - accuracy: 0.3894 - val_loss: 1.3219 - val_accuracy: 0.3923\n",
      "Epoch 21/50\n",
      "319/319 [==============================] - 1582s 5s/step - loss: 0.6963 - accuracy: 0.4273 - val_loss: 1.2566 - val_accuracy: 0.1904\n",
      "Epoch 22/50\n",
      "319/319 [==============================] - 1582s 5s/step - loss: 0.6673 - accuracy: 0.4402 - val_loss: 1.1654 - val_accuracy: 0.2878\n",
      "Epoch 23/50\n",
      "319/319 [==============================] - 1577s 5s/step - loss: 0.6156 - accuracy: 0.4918 - val_loss: 1.2063 - val_accuracy: 0.1622\n",
      "Epoch 24/50\n",
      "319/319 [==============================] - 1588s 5s/step - loss: 0.5632 - accuracy: 0.5202 - val_loss: 1.3065 - val_accuracy: 0.2288\n",
      "Epoch 25/50\n",
      "319/319 [==============================] - 1580s 5s/step - loss: 0.5016 - accuracy: 0.5801 - val_loss: 1.9930 - val_accuracy: 0.4449\n",
      "Epoch 26/50\n",
      "319/319 [==============================] - 1588s 5s/step - loss: 0.4422 - accuracy: 0.6227 - val_loss: 1.8923 - val_accuracy: 0.4885\n",
      "Epoch 27/50\n",
      "319/319 [==============================] - 1582s 5s/step - loss: 0.3915 - accuracy: 0.6625 - val_loss: 1.4860 - val_accuracy: 0.3455\n",
      "Epoch 28/50\n",
      "319/319 [==============================] - 1582s 5s/step - loss: 0.3493 - accuracy: 0.6988 - val_loss: 1.6796 - val_accuracy: 0.3904\n",
      "Epoch 29/50\n",
      "319/319 [==============================] - 1588s 5s/step - loss: 0.2836 - accuracy: 0.7519 - val_loss: 3.3317 - val_accuracy: 0.4974\n",
      "Epoch 30/50\n",
      "319/319 [==============================] - 1585s 5s/step - loss: 0.2742 - accuracy: 0.7518 - val_loss: 2.6366 - val_accuracy: 0.4333\n",
      "Epoch 31/50\n",
      "319/319 [==============================] - 1582s 5s/step - loss: 0.2108 - accuracy: 0.8034 - val_loss: 2.1185 - val_accuracy: 0.3186\n",
      "Epoch 32/50\n",
      "319/319 [==============================] - 1597s 5s/step - loss: 0.2333 - accuracy: 0.7910 - val_loss: 2.9061 - val_accuracy: 0.5051\n",
      "Epoch 33/50\n",
      "319/319 [==============================] - 1620s 5s/step - loss: 0.1962 - accuracy: 0.8172 - val_loss: 3.1648 - val_accuracy: 0.4391\n",
      "Epoch 34/50\n",
      "319/319 [==============================] - 1584s 5s/step - loss: 0.1540 - accuracy: 0.8424 - val_loss: 3.1379 - val_accuracy: 0.4718\n",
      "Epoch 35/50\n",
      "319/319 [==============================] - 1583s 5s/step - loss: 0.1697 - accuracy: 0.8280 - val_loss: 2.5184 - val_accuracy: 0.3455\n",
      "Epoch 36/50\n",
      "319/319 [==============================] - 1583s 5s/step - loss: 0.1570 - accuracy: 0.8437 - val_loss: 2.7665 - val_accuracy: 0.3955\n",
      "Epoch 37/50\n",
      "319/319 [==============================] - 1587s 5s/step - loss: 0.1803 - accuracy: 0.8375 - val_loss: 2.3888 - val_accuracy: 0.2462\n",
      "Epoch 38/50\n",
      "319/319 [==============================] - 1588s 5s/step - loss: 0.1250 - accuracy: 0.8586 - val_loss: 3.2809 - val_accuracy: 0.4128\n",
      "Epoch 39/50\n",
      "319/319 [==============================] - 1585s 5s/step - loss: 0.1320 - accuracy: 0.8601 - val_loss: 3.0737 - val_accuracy: 0.3288\n",
      "Epoch 40/50\n",
      "319/319 [==============================] - 1586s 5s/step - loss: 0.1037 - accuracy: 0.8774 - val_loss: 3.4678 - val_accuracy: 0.4744\n",
      "Epoch 41/50\n",
      "319/319 [==============================] - 1578s 5s/step - loss: 0.1152 - accuracy: 0.8706 - val_loss: 3.4715 - val_accuracy: 0.4513\n",
      "Epoch 42/50\n",
      "319/319 [==============================] - 1582s 5s/step - loss: 0.0871 - accuracy: 0.8854 - val_loss: 4.0393 - val_accuracy: 0.4968\n",
      "Epoch 43/50\n",
      "319/319 [==============================] - 1591s 5s/step - loss: 0.1276 - accuracy: 0.8648 - val_loss: 3.9324 - val_accuracy: 0.4699\n",
      "Epoch 44/50\n",
      "319/319 [==============================] - 1578s 5s/step - loss: 0.1530 - accuracy: 0.8515 - val_loss: 2.8533 - val_accuracy: 0.2327\n",
      "Epoch 45/50\n",
      "319/319 [==============================] - 1585s 5s/step - loss: 0.0989 - accuracy: 0.8788 - val_loss: 3.8757 - val_accuracy: 0.4897\n",
      "Epoch 46/50\n",
      "319/319 [==============================] - 1587s 5s/step - loss: 0.0635 - accuracy: 0.9026 - val_loss: 4.0129 - val_accuracy: 0.4763\n",
      "Epoch 47/50\n",
      "319/319 [==============================] - 1596s 5s/step - loss: 0.0667 - accuracy: 0.8967 - val_loss: 3.8561 - val_accuracy: 0.4673\n",
      "Epoch 48/50\n",
      "319/319 [==============================] - 1587s 5s/step - loss: 0.1280 - accuracy: 0.8702 - val_loss: 4.7804 - val_accuracy: 0.4250\n",
      "Epoch 49/50\n",
      "319/319 [==============================] - 1593s 5s/step - loss: 0.1353 - accuracy: 0.8444 - val_loss: 4.1628 - val_accuracy: 0.4712\n",
      "Epoch 50/50\n",
      "319/319 [==============================] - 1590s 5s/step - loss: 0.0736 - accuracy: 0.8929 - val_loss: 3.9896 - val_accuracy: 0.4840\n"
     ]
    }
   ],
   "source": [
    "history = model.fit(train_generator, \n",
    "                              validation_data=validation_generator,\n",
    "                              steps_per_epoch=train_steps, \n",
    "                              validation_steps=val_steps, \n",
    "                              epochs = 50)"
   ]
  },
  {
   "cell_type": "code",
   "execution_count": 82,
   "id": "6948f006",
   "metadata": {},
   "outputs": [
    {
     "data": {
      "text/plain": [
       "Text(0.5, 1.0, 'Training and validation loss')"
      ]
     },
     "execution_count": 82,
     "metadata": {},
     "output_type": "execute_result"
    },
    {
     "data": {
      "image/png": "[encoded data removed]",
      "text/plain": [
       "<Figure size 640x480 with 1 Axes>"
      ]
     },
     "metadata": {},
     "output_type": "display_data"
    },
    {
     "data": {
      "image/png": "[encoded data removed]",
      "text/plain": [
       "<Figure size 640x480 with 1 Axes>"
      ]
     },
     "metadata": {},
     "output_type": "display_data"
    }
   ],
   "source": [
    "acc      = history.history['accuracy']\n",
    "val_acc  = history.history['val_accuracy']\n",
    "loss     = history.history['loss']\n",
    "val_loss = history.history['val_loss']\n",
    "\n",
    "epochs   = range(len(acc)) \n",
    "\n",
    "# training accuracy : blue\n",
    "# validation accuracy :orange\n",
    "\n",
    "plt.plot  ( epochs, acc )\n",
    "plt.plot  ( epochs, val_acc )\n",
    "plt.title ('Training and validation accuracy')\n",
    "plt.figure()\n",
    "\n",
    "\n",
    "plt.plot  ( epochs,     loss )\n",
    "plt.plot  ( epochs, val_loss )\n",
    "plt.title ('Training and validation loss')"
   ]
  },
  {
   "cell_type": "markdown",
   "id": "086c9808",
   "metadata": {},
   "source": [
    "# Predict"
   ]
  },
  {
   "cell_type": "code",
   "execution_count": null,
   "id": "078ecc83",
   "metadata": {},
   "outputs": [],
   "source": [
    "predicted_vals = model.predict(validation_generator, steps = len(validation_generator))"
   ]
  },
  {
   "cell_type": "markdown",
   "id": "ba4bf36c",
   "metadata": {},
   "source": [
    "# ROC curve"
   ]
  },
  {
   "cell_type": "code",
   "execution_count": 95,
   "id": "08c87d83",
   "metadata": {},
   "outputs": [
    {
     "name": "stdout",
     "output_type": "stream",
     "text": [
      "79/79 [==============================] - 108s 1s/step\n"
     ]
    },
    {
     "data": {
      "image/png": "[encoded data removed]",
      "text/plain": [
       "<Figure size 1000x600 with 1 Axes>"
      ]
     },
     "metadata": {},
     "output_type": "display_data"
    }
   ],
   "source": [
    "from sklearn.metrics import roc_curve, auc\n",
    "\n",
    "# Obtenez les prédictions du modèle sur l'ensemble de validation\n",
    "y_pred = model.predict(validation_generator)\n",
    "\n",
    "# Calculer de la courbe ROC\n",
    "fpr, tpr, thresholds = roc_curve(validation_generator.labels.ravel(), y_pred.ravel())\n",
    "\n",
    "# Calcul de l'AUC\n",
    "roc_auc = auc(fpr, tpr)\n",
    "\n",
    "plt.figure(figsize=(10, 6))\n",
    "plt.plot(fpr, tpr, color='darkorange', lw=2, label='ROC curve (AUC = {:.2f})'.format(roc_auc))\n",
    "plt.plot([0, 1], [0, 1], color='navy', lw=2, linestyle='--')\n",
    "plt.xlabel('False Positive Rate')\n",
    "plt.ylabel('True Positive Rate')\n",
    "plt.title('Receiver Operating Characteristic (ROC) Curve')\n",
    "plt.legend(loc='lower right')\n",
    "plt.show()\n"
   ]
  },
  {
   "cell_type": "markdown",
   "id": "6878156a",
   "metadata": {},
   "source": [
    "# Image test"
   ]
  },
  {
   "cell_type": "code",
   "execution_count": 83,
   "id": "9548dd3e",
   "metadata": {},
   "outputs": [],
   "source": [
    "from tensorflow.keras.preprocessing.image import load_img, img_to_array"
   ]
  },
  {
   "cell_type": "code",
   "execution_count": 84,
   "id": "56fdb473",
   "metadata": {},
   "outputs": [],
   "source": [
    "test_directory = 'C:\\\\Users\\\\nico_\\\\Desktop\\\\thorax_xray\\\\cardiomegalie.jpg'\n",
    "\n",
    "img = load_img(test_directory, target_size=(150, 150))\n",
    "x = img_to_array(img)\n",
    "x /= 255\n",
    "x = np.expand_dims(x, axis=0)"
   ]
  },
  {
   "cell_type": "code",
   "execution_count": 85,
   "id": "0aef1254",
   "metadata": {},
   "outputs": [
    {
     "data": {
      "image/png": "[encoded data removed]",
      "text/plain": [
       "<PIL.Image.Image image mode=RGB size=150x150>"
      ]
     },
     "execution_count": 85,
     "metadata": {},
     "output_type": "execute_result"
    }
   ],
   "source": [
    "img"
   ]
  },
  {
   "cell_type": "code",
   "execution_count": 86,
   "id": "3a0aa7f4",
   "metadata": {},
   "outputs": [
    {
     "data": {
      "text/plain": [
       "(1, 150, 150, 3)"
      ]
     },
     "execution_count": 86,
     "metadata": {},
     "output_type": "execute_result"
    }
   ],
   "source": [
    "x.shape"
   ]
  },
  {
   "cell_type": "code",
   "execution_count": 87,
   "id": "c8a0de2a",
   "metadata": {},
   "outputs": [],
   "source": [
    "img_resized = img.resize((150, 150))"
   ]
  },
  {
   "cell_type": "code",
   "execution_count": 88,
   "id": "b349cf83",
   "metadata": {},
   "outputs": [],
   "source": [
    "x = img_to_array(img_resized)\n",
    "x /= 255\n",
    "x = np.expand_dims(x, axis=0)"
   ]
  },
  {
   "cell_type": "code",
   "execution_count": 89,
   "id": "efdc2e67",
   "metadata": {},
   "outputs": [
    {
     "name": "stdout",
     "output_type": "stream",
     "text": [
      "1/1 [==============================] - 6s 6s/step\n"
     ]
    }
   ],
   "source": [
    "classes = model.predict(x)\n",
    "\n",
    "threshold = 0.5\n",
    "\n",
    "binary_predictions = (classes > threshold).astype(int)"
   ]
  },
  {
   "cell_type": "code",
   "execution_count": 90,
   "id": "0f282e70",
   "metadata": {},
   "outputs": [
    {
     "data": {
      "text/plain": [
       "array([[0, 0, 1, 0, 0, 0, 0, 0, 0, 0, 0, 0, 1, 0, 1, 0, 0, 0, 0, 0]])"
      ]
     },
     "execution_count": 90,
     "metadata": {},
     "output_type": "execute_result"
    }
   ],
   "source": [
    "binary_predictions"
   ]
  },
  {
   "cell_type": "code",
   "execution_count": 91,
   "id": "547cad8b",
   "metadata": {},
   "outputs": [
    {
     "data": {
      "text/plain": [
       "array([[1.0324693e-05, 5.4584659e-04, 9.7232759e-01, 1.7182454e-01,\n",
       "        2.2038082e-03, 5.9254355e-05, 2.6275451e-05, 1.3542175e-09,\n",
       "        2.1357533e-02, 4.2167758e-05, 6.9989222e-03, 2.8456905e-06,\n",
       "        5.9896392e-01, 1.7458378e-04, 7.3993212e-01, 7.4493596e-03,\n",
       "        9.1043337e-05, 8.4443178e-07, 2.3334479e-08, 5.3439695e-02]],\n",
       "      dtype=float32)"
      ]
     },
     "execution_count": 91,
     "metadata": {},
     "output_type": "execute_result"
    }
   ],
   "source": [
    "classes"
   ]
  },
  {
   "cell_type": "code",
   "execution_count": null,
   "id": "695bfd87",
   "metadata": {},
   "outputs": [],
   "source": []
  }
 ],
 "metadata": {
  "kernelspec": {
   "display_name": "Python 3 (ipykernel)",
   "language": "python",
   "name": "python3"
  },
  "language_info": {
   "codemirror_mode": {
    "name": "ipython",
    "version": 3
   },
   "file_extension": ".py",
   "mimetype": "text/x-python",
   "name": "python",
   "nbconvert_exporter": "python",
   "pygments_lexer": "ipython3",
   "version": "3.11.5"
  }
 },
 "nbformat": 4,
 "nbformat_minor": 5
}
